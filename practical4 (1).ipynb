{
  "nbformat": 4,
  "nbformat_minor": 0,
  "metadata": {
    "colab": {
      "name": "practical4.ipynb",
      "provenance": []
    },
    "kernelspec": {
      "name": "python3",
      "display_name": "Python 3"
    },
    "language_info": {
      "name": "python"
    }
  },
  "cells": [
    {
      "cell_type": "markdown",
      "source": [
        "write a program to create, append, and remove lists in python. "
      ],
      "metadata": {
        "id": "p_TIZNLOTPTP"
      }
    },
    {
      "cell_type": "code",
      "source": [
        "pets = ['cat', 'dog', 'rat', 'pig', 'tiger']\n",
        "snakes=['python','anaconda','fish','cobra','mamba']\n",
        "print(\"Pets are :\",pets)\n",
        "print(\"Snakes are :\",snakes)\n",
        "animals=pets+snakes\n",
        "print(\"Animals are :\",animals)\n",
        "snakes.remove(\"fish\")\n",
        "print(\"updated Snakes are :\",snakes) "
      ],
      "metadata": {
        "colab": {
          "base_uri": "https://localhost:8080/"
        },
        "id": "GItJNH4tgPeD",
        "outputId": "dbb90890-052a-4e29-a39d-57e8a4e1345c"
      },
      "execution_count": 17,
      "outputs": [
        {
          "output_type": "stream",
          "name": "stdout",
          "text": [
            "Pets are : ['cat', 'dog', 'rat', 'pig', 'tiger']\n",
            "Snakes are : ['python', 'anaconda', 'fish', 'cobra', 'mamba']\n",
            "Animals are : ['cat', 'dog', 'rat', 'pig', 'tiger', 'python', 'anaconda', 'fish', 'cobra', 'mamba']\n",
            "updated Snakes are : ['python', 'anaconda', 'cobra', 'mamba']\n"
          ]
        }
      ]
    }
  ]
}